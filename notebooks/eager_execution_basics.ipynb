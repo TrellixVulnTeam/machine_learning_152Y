{
 "cells": [
  {
   "cell_type": "code",
   "execution_count": 1,
   "metadata": {},
   "outputs": [
    {
     "name": "stdout",
     "output_type": "stream",
     "text": [
      "Version: 1.15.3\n"
     ]
    }
   ],
   "source": [
    "import time\n",
    "import tempfile\n",
    "import numpy as np\n",
    "import tensorflow as tf\n",
    "print('Version:', tf.__version__)"
   ]
  },
  {
   "cell_type": "code",
   "execution_count": 2,
   "metadata": {},
   "outputs": [],
   "source": [
    "tf.enable_eager_execution()"
   ]
  },
  {
   "cell_type": "markdown",
   "metadata": {},
   "source": [
    "# Tensors"
   ]
  },
  {
   "cell_type": "code",
   "execution_count": 3,
   "metadata": {},
   "outputs": [
    {
     "name": "stdout",
     "output_type": "stream",
     "text": [
      "tf.Tensor(3, shape=(), dtype=int32)\n",
      "tf.Tensor([4 6], shape=(2,), dtype=int32)\n",
      "tf.Tensor(25, shape=(), dtype=int32)\n",
      "tf.Tensor(6, shape=(), dtype=int32)\n",
      "tf.Tensor(b'aGVsbG9fd29ybGQ', shape=(), dtype=string)\n"
     ]
    }
   ],
   "source": [
    "print(tf.add(1, 2))\n",
    "print(tf.add([1, 2], [3, 4]))\n",
    "print(tf.square(5))\n",
    "print(tf.reduce_sum([1, 2, 3]))\n",
    "print(tf.encode_base64('hello_world'))"
   ]
  },
  {
   "cell_type": "code",
   "execution_count": 4,
   "metadata": {},
   "outputs": [
    {
     "name": "stdout",
     "output_type": "stream",
     "text": [
      "3\n"
     ]
    }
   ],
   "source": [
    "# get result with numpy() method...\n",
    "print(tf.add(1,2).numpy())"
   ]
  },
  {
   "cell_type": "code",
   "execution_count": 5,
   "metadata": {},
   "outputs": [
    {
     "name": "stdout",
     "output_type": "stream",
     "text": [
      "tf.Tensor(13, shape=(), dtype=int32)\n"
     ]
    }
   ],
   "source": [
    "# operator overloading\n",
    "print(tf.square(2) + tf.square(3))"
   ]
  },
  {
   "cell_type": "markdown",
   "metadata": {},
   "source": [
    "#### NumPy Compatibility"
   ]
  },
  {
   "cell_type": "markdown",
   "metadata": {},
   "source": [
    "Major Differences Between NumPy arrays and TensorFlow tensors:\n",
    "\n",
    "1) Tensors can be backed by accelerator memory (GPU, TPU)\n",
    "\n",
    "2) Tensors are immutable"
   ]
  },
  {
   "cell_type": "markdown",
   "metadata": {},
   "source": [
    "TensorFlow operations automatically convert NumPy ndarrays to Tensors.\n",
    "\n",
    "NumPy operations automatically convert Tensors to NumPy ndarrays."
   ]
  },
  {
   "cell_type": "code",
   "execution_count": 6,
   "metadata": {},
   "outputs": [
    {
     "name": "stdout",
     "output_type": "stream",
     "text": [
      "<class 'tensorflow.python.framework.ops.EagerTensor'>\n",
      "tf.Tensor(\n",
      "[[42. 42. 42.]\n",
      " [42. 42. 42.]\n",
      " [42. 42. 42.]], shape=(3, 3), dtype=float64)\n",
      "<class 'numpy.ndarray'>\n",
      "[[43. 43. 43.]\n",
      " [43. 43. 43.]\n",
      " [43. 43. 43.]] (3, 3) float64\n"
     ]
    }
   ],
   "source": [
    "npy_array = np.ones([3, 3])\n",
    "\n",
    "tensor = tf.multiply(npy_array, 42)\n",
    "print(type(tensor))\n",
    "print(tensor)\n",
    "\n",
    "array = np.add(tensor, 1)\n",
    "print(type(array))\n",
    "print(array, array.shape, array.dtype)"
   ]
  },
  {
   "cell_type": "code",
   "execution_count": 7,
   "metadata": {},
   "outputs": [
    {
     "name": "stdout",
     "output_type": "stream",
     "text": [
      "<class 'numpy.ndarray'>\n",
      "<class 'tensorflow.python.framework.ops.EagerTensor'>\n"
     ]
    }
   ],
   "source": [
    "# explicit conversion\n",
    "print(type(tensor.numpy()))\n",
    "print(type(tf.convert_to_tensor(array)))"
   ]
  },
  {
   "cell_type": "markdown",
   "metadata": {},
   "source": [
    "# GPU acceleration"
   ]
  },
  {
   "cell_type": "code",
   "execution_count": 8,
   "metadata": {},
   "outputs": [
    {
     "name": "stdout",
     "output_type": "stream",
     "text": [
      "Is there a GPU?\n",
      "True\n",
      "Is Tensor on GPU?\n",
      "True\n"
     ]
    }
   ],
   "source": [
    "# if not specified, TensorFlow will automatically decide whether or not to use GPU or CPU for an operation\n",
    "x = tf.random.uniform([3, 3])\n",
    "\n",
    "print('Is there a GPU?')\n",
    "print(tf.test.is_gpu_available())\n",
    "\n",
    "print('Is Tensor on GPU?')\n",
    "print(x.device.endswith('GPU:0'))"
   ]
  },
  {
   "cell_type": "markdown",
   "metadata": {},
   "source": [
    "#### Names and Placement\n",
    "TensorFlow operations can be explicitly placed on specific devices using the tf.device context manager."
   ]
  },
  {
   "cell_type": "code",
   "execution_count": 9,
   "metadata": {},
   "outputs": [
    {
     "name": "stdout",
     "output_type": "stream",
     "text": [
      "/job:localhost/replica:0/task:0/device:GPU:0\n"
     ]
    }
   ],
   "source": [
    "# tensor.device provides fully qualified string name of device hosting contents of tensor\n",
    "print(x.device) # required for distributed execution"
   ]
  },
  {
   "cell_type": "code",
   "execution_count": 10,
   "metadata": {},
   "outputs": [],
   "source": [
    "# example operation for demonstration\n",
    "def time_matmul(x):\n",
    "    start = time.time()\n",
    "    for loop in range(10):\n",
    "        tf.matmul(x, x)\n",
    "    runtime = time.time() - start\n",
    "    print('10 loops: {:0.2f}ms'.format(1000 * runtime))"
   ]
  },
  {
   "cell_type": "code",
   "execution_count": 11,
   "metadata": {},
   "outputs": [
    {
     "name": "stdout",
     "output_type": "stream",
     "text": [
      "Running on CPU...\n",
      "10 loops: 80.82ms\n"
     ]
    }
   ],
   "source": [
    "# force execution on CPU\n",
    "print('Running on CPU...')\n",
    "with tf.device('CPU:0'):\n",
    "    # initialize large random matrix\n",
    "    x = tf.random_uniform([1000, 1000])\n",
    "    # confirm CPU or throw error\n",
    "    assert x.device.endswith('CPU:0')\n",
    "    time_matmul(x)"
   ]
  },
  {
   "cell_type": "code",
   "execution_count": 12,
   "metadata": {},
   "outputs": [
    {
     "name": "stdout",
     "output_type": "stream",
     "text": [
      "Running on GPU...\n",
      "10 loops: 167.87ms\n"
     ]
    }
   ],
   "source": [
    "# force execution on GPU\n",
    "print('Running on GPU...')\n",
    "with tf.device('GPU:0'):\n",
    "    # initialize large random matrix\n",
    "    x = tf.random_uniform([1000, 1000])\n",
    "    # confirm GPU or throw error\n",
    "    assert x.device.endswith('GPU:0')\n",
    "    time_matmul(x)"
   ]
  },
  {
   "cell_type": "markdown",
   "metadata": {},
   "source": [
    "# Datasets\n",
    "When eager execution is enabled you can iterate over a dataset object without creating a tf.data.Iterator object."
   ]
  },
  {
   "cell_type": "code",
   "execution_count": 13,
   "metadata": {},
   "outputs": [],
   "source": [
    "# create dataset from tensor slices\n",
    "ds_tensors = tf.data.Dataset.from_tensor_slices([1, 2, 3, 4, 5, 6])"
   ]
  },
  {
   "cell_type": "code",
   "execution_count": 14,
   "metadata": {},
   "outputs": [],
   "source": [
    "# create mock CSV file\n",
    "_, filename = tempfile.mkstemp()\n",
    "with open(filename, 'w') as f:\n",
    "    f.write('''Line 1.1\\nLine 1.2\\nLine 1.3''')\n",
    "    \n",
    "# create dataset from file\n",
    "ds_file = tf.data.TextLineDataset(filename)"
   ]
  },
  {
   "cell_type": "code",
   "execution_count": 15,
   "metadata": {},
   "outputs": [],
   "source": [
    "# apply transformations\n",
    "ds_tensors = ds_tensors.map(tf.square).shuffle(2).batch(2)\n",
    "ds_file = ds_file.batch(1)"
   ]
  },
  {
   "cell_type": "code",
   "execution_count": 16,
   "metadata": {},
   "outputs": [
    {
     "name": "stdout",
     "output_type": "stream",
     "text": [
      "tf.Tensor([4 1], shape=(2,), dtype=int32)\n",
      "tf.Tensor([16 25], shape=(2,), dtype=int32)\n",
      "tf.Tensor([36  9], shape=(2,), dtype=int32)\n",
      "tf.Tensor([b'Line 1.1'], shape=(1,), dtype=string)\n",
      "tf.Tensor([b'Line 1.2'], shape=(1,), dtype=string)\n",
      "tf.Tensor([b'Line 1.3'], shape=(1,), dtype=string)\n"
     ]
    }
   ],
   "source": [
    "# iterate over dataset\n",
    "for x in ds_tensors: print(x)\n",
    "for x in ds_file: print(x)"
   ]
  }
 ],
 "metadata": {
  "kernelspec": {
   "display_name": "Python 3",
   "language": "python",
   "name": "python3"
  },
  "language_info": {
   "codemirror_mode": {
    "name": "ipython",
    "version": 3
   },
   "file_extension": ".py",
   "mimetype": "text/x-python",
   "name": "python",
   "nbconvert_exporter": "python",
   "pygments_lexer": "ipython3",
   "version": "3.6.9"
  }
 },
 "nbformat": 4,
 "nbformat_minor": 4
}

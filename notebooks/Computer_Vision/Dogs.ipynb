{
 "cells": [
  {
   "cell_type": "code",
   "execution_count": 1,
   "metadata": {},
   "outputs": [
    {
     "name": "stderr",
     "output_type": "stream",
     "text": [
      "Using TensorFlow backend.\n"
     ]
    }
   ],
   "source": [
    "import tensorflow as tf\n",
    "import tensorflow_hub as hub\n",
    "\n",
    "from tensorflow import keras\n",
    "\n",
    "from keras import models\n",
    "from keras import layers\n",
    "from keras import callbacks\n",
    "from keras import optimizers"
   ]
  },
  {
   "cell_type": "code",
   "execution_count": 2,
   "metadata": {},
   "outputs": [
    {
     "data": {
      "text/plain": [
       "'1.15.3'"
      ]
     },
     "execution_count": 2,
     "metadata": {},
     "output_type": "execute_result"
    }
   ],
   "source": [
    "tf.__version__"
   ]
  },
  {
   "cell_type": "code",
   "execution_count": 3,
   "metadata": {},
   "outputs": [],
   "source": [
    "import os, cv2, math\n",
    "import numpy as np\n",
    "import pandas as pd\n",
    "from tqdm import tqdm\n",
    "import matplotlib.pyplot as plt\n",
    "from sklearn.model_selection import train_test_split"
   ]
  },
  {
   "cell_type": "code",
   "execution_count": 4,
   "metadata": {},
   "outputs": [],
   "source": [
    "import logging\n",
    "\n",
    "logger = tf.get_logger()\n",
    "logger.setLevel(logging.ERROR)\n",
    "\n",
    "import warnings\n",
    "\n",
    "warnings.simplefilter('ignore')"
   ]
  },
  {
   "cell_type": "code",
   "execution_count": 5,
   "metadata": {},
   "outputs": [],
   "source": [
    "exec_path = os.getcwd()\n",
    "data_path = '/home/naivoder/hd/kaggle/datasets/dog-breed-identification/'\n",
    "\n",
    "labels_path = os.path.join(data_path, 'labels.csv')\n",
    "\n",
    "train_folder = os.path.join(data_path, 'train/')\n",
    "test_folder = os.path.join(data_path, 'test/')\n",
    "\n",
    "df = pd.read_csv(labels_path)"
   ]
  },
  {
   "cell_type": "code",
   "execution_count": 6,
   "metadata": {},
   "outputs": [
    {
     "name": "stdout",
     "output_type": "stream",
     "text": [
      "Training images: 10222\n",
      "Testing images: 10357\n"
     ]
    }
   ],
   "source": [
    "num_train = len(next(os.walk(train_folder))[2])\n",
    "num_test = len(next(os.walk(test_folder))[2])\n",
    "\n",
    "print(\"Training images:\", num_train)\n",
    "print(\"Testing images:\", num_test)"
   ]
  },
  {
   "cell_type": "code",
   "execution_count": 7,
   "metadata": {},
   "outputs": [
    {
     "data": {
      "text/html": [
       "<div>\n",
       "<style scoped>\n",
       "    .dataframe tbody tr th:only-of-type {\n",
       "        vertical-align: middle;\n",
       "    }\n",
       "\n",
       "    .dataframe tbody tr th {\n",
       "        vertical-align: top;\n",
       "    }\n",
       "\n",
       "    .dataframe thead th {\n",
       "        text-align: right;\n",
       "    }\n",
       "</style>\n",
       "<table border=\"1\" class=\"dataframe\">\n",
       "  <thead>\n",
       "    <tr style=\"text-align: right;\">\n",
       "      <th></th>\n",
       "      <th>id</th>\n",
       "      <th>breed</th>\n",
       "    </tr>\n",
       "  </thead>\n",
       "  <tbody>\n",
       "    <tr>\n",
       "      <th>count</th>\n",
       "      <td>10222</td>\n",
       "      <td>10222</td>\n",
       "    </tr>\n",
       "    <tr>\n",
       "      <th>unique</th>\n",
       "      <td>10222</td>\n",
       "      <td>120</td>\n",
       "    </tr>\n",
       "    <tr>\n",
       "      <th>top</th>\n",
       "      <td>49cdf9df49fbf1068c791dcecbb2031f</td>\n",
       "      <td>scottish_deerhound</td>\n",
       "    </tr>\n",
       "    <tr>\n",
       "      <th>freq</th>\n",
       "      <td>1</td>\n",
       "      <td>126</td>\n",
       "    </tr>\n",
       "  </tbody>\n",
       "</table>\n",
       "</div>"
      ],
      "text/plain": [
       "                                      id               breed\n",
       "count                              10222               10222\n",
       "unique                             10222                 120\n",
       "top     49cdf9df49fbf1068c791dcecbb2031f  scottish_deerhound\n",
       "freq                                   1                 126"
      ]
     },
     "execution_count": 7,
     "metadata": {},
     "output_type": "execute_result"
    }
   ],
   "source": [
    "df.describe()"
   ]
  },
  {
   "cell_type": "code",
   "execution_count": 8,
   "metadata": {},
   "outputs": [],
   "source": [
    "breed = set(df['breed'])\n",
    "\n",
    "num_images = len(df)\n",
    "num_classes = len(breed)\n",
    "\n",
    "class_to_num = dict(zip(breed, range(num_classes)))\n",
    "num_to_class = dict(zip(range(num_classes), breed))"
   ]
  },
  {
   "cell_type": "code",
   "execution_count": 9,
   "metadata": {},
   "outputs": [],
   "source": [
    "width = 224\n",
    "batch_size = 8\n",
    "epochs = 500\n",
    "drop_out = 0.5"
   ]
  },
  {
   "cell_type": "code",
   "execution_count": 10,
   "metadata": {},
   "outputs": [],
   "source": [
    "rgb = True\n",
    "num_channels = 3 if rgb else 1"
   ]
  },
  {
   "cell_type": "code",
   "execution_count": 11,
   "metadata": {},
   "outputs": [
    {
     "name": "stderr",
     "output_type": "stream",
     "text": [
      "100%|██████████| 10222/10222 [00:28<00:00, 364.42it/s]\n"
     ]
    }
   ],
   "source": [
    "images = np.zeros((num_train, width, width, num_channels), dtype=np.float16)\n",
    "labels = np.zeros((num_train, num_classes), dtype=np.int8)\n",
    "\n",
    "for i in tqdm(range(num_images)):\n",
    "    images[i] = cv2.resize(cv2.imread(train_folder + '%s.jpg' % df['id'][i]), (width, width))\n",
    "    labels[i][class_to_num[df['breed'][i]]] = 1"
   ]
  },
  {
   "cell_type": "code",
   "execution_count": 12,
   "metadata": {},
   "outputs": [],
   "source": [
    "from sklearn.model_selection import train_test_split\n",
    "x_train, y_train, x_test, y_test = train_test_split(images, labels, test_size=0.2)"
   ]
  },
  {
   "cell_type": "code",
   "execution_count": 23,
   "metadata": {},
   "outputs": [
    {
     "ename": "ValueError",
     "evalue": "`x` (images tensor) and `y` (labels) should have the same length. Found: x.shape = (8177, 224, 224, 3), y.shape = (2045, 224, 224, 3)",
     "output_type": "error",
     "traceback": [
      "\u001b[0;31m---------------------------------------------------------------------------\u001b[0m",
      "\u001b[0;31mValueError\u001b[0m                                Traceback (most recent call last)",
      "\u001b[0;32m<ipython-input-23-c716d83357f5>\u001b[0m in \u001b[0;36m<module>\u001b[0;34m\u001b[0m\n\u001b[1;32m      2\u001b[0m \u001b[0;34m\u001b[0m\u001b[0m\n\u001b[1;32m      3\u001b[0m \u001b[0mtraingen\u001b[0m \u001b[0;34m=\u001b[0m \u001b[0mImageDataGenerator\u001b[0m\u001b[0;34m(\u001b[0m\u001b[0mrescale\u001b[0m\u001b[0;34m=\u001b[0m\u001b[0;36m1.\u001b[0m\u001b[0;34m/\u001b[0m\u001b[0;36m255\u001b[0m\u001b[0;34m)\u001b[0m\u001b[0;34m\u001b[0m\u001b[0;34m\u001b[0m\u001b[0m\n\u001b[0;32m----> 4\u001b[0;31m \u001b[0mtrain_data\u001b[0m \u001b[0;34m=\u001b[0m \u001b[0mtraingen\u001b[0m\u001b[0;34m.\u001b[0m\u001b[0mflow\u001b[0m\u001b[0;34m(\u001b[0m\u001b[0mx_train\u001b[0m\u001b[0;34m,\u001b[0m \u001b[0my_train\u001b[0m\u001b[0;34m)\u001b[0m\u001b[0;34m\u001b[0m\u001b[0;34m\u001b[0m\u001b[0m\n\u001b[0m",
      "\u001b[0;32m/usr/lib/python3/dist-packages/keras/preprocessing/image.py\u001b[0m in \u001b[0;36mflow\u001b[0;34m(self, x, y, batch_size, shuffle, sample_weight, seed, save_to_dir, save_prefix, save_format, subset)\u001b[0m\n\u001b[1;32m    357\u001b[0m             \u001b[0msave_prefix\u001b[0m\u001b[0;34m=\u001b[0m\u001b[0msave_prefix\u001b[0m\u001b[0;34m,\u001b[0m\u001b[0;34m\u001b[0m\u001b[0;34m\u001b[0m\u001b[0m\n\u001b[1;32m    358\u001b[0m             \u001b[0msave_format\u001b[0m\u001b[0;34m=\u001b[0m\u001b[0msave_format\u001b[0m\u001b[0;34m,\u001b[0m\u001b[0;34m\u001b[0m\u001b[0;34m\u001b[0m\u001b[0m\n\u001b[0;32m--> 359\u001b[0;31m             \u001b[0msubset\u001b[0m\u001b[0;34m=\u001b[0m\u001b[0msubset\u001b[0m\u001b[0;34m\u001b[0m\u001b[0;34m\u001b[0m\u001b[0m\n\u001b[0m\u001b[1;32m    360\u001b[0m         )\n\u001b[1;32m    361\u001b[0m \u001b[0;34m\u001b[0m\u001b[0m\n",
      "\u001b[0;32m/usr/lib/python3/dist-packages/keras/preprocessing/image.py\u001b[0m in \u001b[0;36m__init__\u001b[0;34m(self, x, y, image_data_generator, batch_size, shuffle, sample_weight, seed, data_format, save_to_dir, save_prefix, save_format, subset, dtype)\u001b[0m\n\u001b[1;32m    180\u001b[0m             \u001b[0msave_format\u001b[0m\u001b[0;34m=\u001b[0m\u001b[0msave_format\u001b[0m\u001b[0;34m,\u001b[0m\u001b[0;34m\u001b[0m\u001b[0;34m\u001b[0m\u001b[0m\n\u001b[1;32m    181\u001b[0m             \u001b[0msubset\u001b[0m\u001b[0;34m=\u001b[0m\u001b[0msubset\u001b[0m\u001b[0;34m,\u001b[0m\u001b[0;34m\u001b[0m\u001b[0;34m\u001b[0m\u001b[0m\n\u001b[0;32m--> 182\u001b[0;31m             dtype=dtype)\n\u001b[0m\u001b[1;32m    183\u001b[0m \u001b[0;34m\u001b[0m\u001b[0m\n\u001b[1;32m    184\u001b[0m \u001b[0;34m\u001b[0m\u001b[0m\n",
      "\u001b[0;32m/usr/lib/python3/dist-packages/keras_preprocessing/image/numpy_array_iterator.py\u001b[0m in \u001b[0;36m__init__\u001b[0;34m(self, x, y, image_data_generator, batch_size, shuffle, sample_weight, seed, data_format, save_to_dir, save_prefix, save_format, subset, dtype)\u001b[0m\n\u001b[1;32m     78\u001b[0m                              \u001b[0;34m'should have the same length. '\u001b[0m\u001b[0;34m\u001b[0m\u001b[0;34m\u001b[0m\u001b[0m\n\u001b[1;32m     79\u001b[0m                              \u001b[0;34m'Found: x.shape = %s, y.shape = %s'\u001b[0m \u001b[0;34m%\u001b[0m\u001b[0;34m\u001b[0m\u001b[0;34m\u001b[0m\u001b[0m\n\u001b[0;32m---> 80\u001b[0;31m                              (np.asarray(x).shape, np.asarray(y).shape))\n\u001b[0m\u001b[1;32m     81\u001b[0m         \u001b[0;32mif\u001b[0m \u001b[0msample_weight\u001b[0m \u001b[0;32mis\u001b[0m \u001b[0;32mnot\u001b[0m \u001b[0;32mNone\u001b[0m \u001b[0;32mand\u001b[0m \u001b[0mlen\u001b[0m\u001b[0;34m(\u001b[0m\u001b[0mx\u001b[0m\u001b[0;34m)\u001b[0m \u001b[0;34m!=\u001b[0m \u001b[0mlen\u001b[0m\u001b[0;34m(\u001b[0m\u001b[0msample_weight\u001b[0m\u001b[0;34m)\u001b[0m\u001b[0;34m:\u001b[0m\u001b[0;34m\u001b[0m\u001b[0;34m\u001b[0m\u001b[0m\n\u001b[1;32m     82\u001b[0m             raise ValueError('`x` (images tensor) and `sample_weight` '\n",
      "\u001b[0;31mValueError\u001b[0m: `x` (images tensor) and `y` (labels) should have the same length. Found: x.shape = (8177, 224, 224, 3), y.shape = (2045, 224, 224, 3)"
     ]
    }
   ],
   "source": [
    "from keras.preprocessing.image import ImageDataGenerator\n",
    "\n",
    "traingen = ImageDataGenerator(rescale=1./255)\n",
    "train_data = traingen.flow(x_train, y_train)"
   ]
  },
  {
   "cell_type": "code",
   "execution_count": 11,
   "metadata": {},
   "outputs": [],
   "source": [
    "inputs = layers.Input((224,224,3))\n",
    "\n",
    "x = layers.Conv2D(filters=18, kernel_size=(3,3), padding='same')(inputs)\n",
    "x = layers.Dropout(drop_out)(x)\n",
    "x = layers.ReLU()(x)\n",
    "x = layers.MaxPooling2D(pool_size=(2,2))(x)\n",
    "\n",
    "x = layers.Conv2D(filters=36, kernel_size=(3,3), padding='same')(x)\n",
    "x = layers.Dropout(drop_out)(x)\n",
    "x = layers.ReLU()(x)\n",
    "x = layers.MaxPooling2D(pool_size=(2,2))(x)\n",
    "\n",
    "x = layers.Conv2D(filters=64, kernel_size=(3,3), padding='same')(x)\n",
    "x = layers.Dropout(drop_out)(x)\n",
    "x = layers.ReLU()(x)\n",
    "x = layers.MaxPooling2D(pool_size=(2,2))(x)\n",
    "\n",
    "x = layers.Conv2D(filters=128, kernel_size=(3,3), padding='same')(x)\n",
    "x = layers.Dropout(drop_out)(x)\n",
    "x = layers.ReLU()(x)\n",
    "x = layers.MaxPooling2D(pool_size=(2,2))(x)\n",
    "\n",
    "x = layers.Conv2D(filters=256, kernel_size=(3,3), padding='same')(x)\n",
    "x = layers.Dropout(drop_out)(x)\n",
    "x = layers.ReLU()(x)\n",
    "x = layers.MaxPooling2D(pool_size=(2,2))(x)\n",
    "\n",
    "x = layers.Conv2D(filters=512, kernel_size=(3,3), padding='same')(x)\n",
    "x = layers.Dropout(drop_out)(x)\n",
    "x = layers.ReLU()(x)\n",
    "x = layers.Dense(1028, activation='relu')(x)\n",
    "x = layers.Flatten()(x)\n",
    "\n",
    "predictions = layers.Dense(num_classes, activation='softmax')(x)\n",
    "\n",
    "model = models.Model(inputs=inputs, outputs=predictions)"
   ]
  },
  {
   "cell_type": "code",
   "execution_count": 12,
   "metadata": {},
   "outputs": [
    {
     "name": "stdout",
     "output_type": "stream",
     "text": [
      "Model: \"model_1\"\n",
      "_________________________________________________________________\n",
      "Layer (type)                 Output Shape              Param #   \n",
      "=================================================================\n",
      "input_1 (InputLayer)         (None, 224, 224, 3)       0         \n",
      "_________________________________________________________________\n",
      "conv2d_1 (Conv2D)            (None, 224, 224, 18)      504       \n",
      "_________________________________________________________________\n",
      "dropout_1 (Dropout)          (None, 224, 224, 18)      0         \n",
      "_________________________________________________________________\n",
      "re_lu_1 (ReLU)               (None, 224, 224, 18)      0         \n",
      "_________________________________________________________________\n",
      "max_pooling2d_1 (MaxPooling2 (None, 112, 112, 18)      0         \n",
      "_________________________________________________________________\n",
      "conv2d_2 (Conv2D)            (None, 112, 112, 36)      5868      \n",
      "_________________________________________________________________\n",
      "dropout_2 (Dropout)          (None, 112, 112, 36)      0         \n",
      "_________________________________________________________________\n",
      "re_lu_2 (ReLU)               (None, 112, 112, 36)      0         \n",
      "_________________________________________________________________\n",
      "max_pooling2d_2 (MaxPooling2 (None, 56, 56, 36)        0         \n",
      "_________________________________________________________________\n",
      "conv2d_3 (Conv2D)            (None, 56, 56, 64)        20800     \n",
      "_________________________________________________________________\n",
      "dropout_3 (Dropout)          (None, 56, 56, 64)        0         \n",
      "_________________________________________________________________\n",
      "re_lu_3 (ReLU)               (None, 56, 56, 64)        0         \n",
      "_________________________________________________________________\n",
      "max_pooling2d_3 (MaxPooling2 (None, 28, 28, 64)        0         \n",
      "_________________________________________________________________\n",
      "conv2d_4 (Conv2D)            (None, 28, 28, 128)       73856     \n",
      "_________________________________________________________________\n",
      "dropout_4 (Dropout)          (None, 28, 28, 128)       0         \n",
      "_________________________________________________________________\n",
      "re_lu_4 (ReLU)               (None, 28, 28, 128)       0         \n",
      "_________________________________________________________________\n",
      "max_pooling2d_4 (MaxPooling2 (None, 14, 14, 128)       0         \n",
      "_________________________________________________________________\n",
      "conv2d_5 (Conv2D)            (None, 14, 14, 256)       295168    \n",
      "_________________________________________________________________\n",
      "dropout_5 (Dropout)          (None, 14, 14, 256)       0         \n",
      "_________________________________________________________________\n",
      "re_lu_5 (ReLU)               (None, 14, 14, 256)       0         \n",
      "_________________________________________________________________\n",
      "max_pooling2d_5 (MaxPooling2 (None, 7, 7, 256)         0         \n",
      "_________________________________________________________________\n",
      "conv2d_6 (Conv2D)            (None, 7, 7, 512)         1180160   \n",
      "_________________________________________________________________\n",
      "dropout_6 (Dropout)          (None, 7, 7, 512)         0         \n",
      "_________________________________________________________________\n",
      "re_lu_6 (ReLU)               (None, 7, 7, 512)         0         \n",
      "_________________________________________________________________\n",
      "dense_1 (Dense)              (None, 7, 7, 1028)        527364    \n",
      "_________________________________________________________________\n",
      "flatten_1 (Flatten)          (None, 50372)             0         \n",
      "_________________________________________________________________\n",
      "dense_2 (Dense)              (None, 120)               6044760   \n",
      "=================================================================\n",
      "Total params: 8,148,480\n",
      "Trainable params: 8,148,480\n",
      "Non-trainable params: 0\n",
      "_________________________________________________________________\n"
     ]
    }
   ],
   "source": [
    "model.summary()"
   ]
  },
  {
   "cell_type": "code",
   "execution_count": 13,
   "metadata": {},
   "outputs": [],
   "source": [
    "weight_path = 'dogs_weights.h5'\n",
    "\n",
    "completion = callbacks.EarlyStopping(monitor='val_acc', verbose=1, patience=50)\n",
    "checkpoint = callbacks.ModelCheckpoint(weight_path, monitor='val_acc', verbose=1, save_best_only=True)\n",
    "\n",
    "callbacks_list = [completion, checkpoint]"
   ]
  },
  {
   "cell_type": "code",
   "execution_count": 14,
   "metadata": {},
   "outputs": [],
   "source": [
    "model.compile(optimizer=optimizers.Adam(learning_rate=1e-4), loss='categorical_crossentropy', metrics=['acc'])"
   ]
  },
  {
   "cell_type": "code",
   "execution_count": 15,
   "metadata": {},
   "outputs": [
    {
     "name": "stdout",
     "output_type": "stream",
     "text": [
      "Train on 8177 samples, validate on 2045 samples\n",
      "Epoch 1/500\n",
      "8177/8177 [==============================] - 29s 4ms/step - loss: 13.2998 - acc: 0.0094 - val_loss: 4.7875 - val_acc: 0.0108\n",
      "\n",
      "Epoch 00001: val_acc improved from -inf to 0.01076, saving model to dogs_weights.h5\n",
      "Epoch 2/500\n",
      "8177/8177 [==============================] - 28s 3ms/step - loss: 4.8015 - acc: 0.0109 - val_loss: 4.7874 - val_acc: 0.0103\n",
      "\n",
      "Epoch 00002: val_acc did not improve from 0.01076\n",
      "Epoch 3/500\n",
      "8177/8177 [==============================] - 30s 4ms/step - loss: 4.7924 - acc: 0.0119 - val_loss: 4.7872 - val_acc: 0.0064\n",
      "\n",
      "Epoch 00003: val_acc did not improve from 0.01076\n",
      "Epoch 4/500\n",
      "8177/8177 [==============================] - 27s 3ms/step - loss: 4.7874 - acc: 0.0136 - val_loss: 4.7869 - val_acc: 0.0059\n",
      "\n",
      "Epoch 00004: val_acc did not improve from 0.01076\n",
      "Epoch 5/500\n",
      "8177/8177 [==============================] - 27s 3ms/step - loss: 4.7856 - acc: 0.0144 - val_loss: 4.7862 - val_acc: 0.0112\n",
      "\n",
      "Epoch 00005: val_acc improved from 0.01076 to 0.01125, saving model to dogs_weights.h5\n",
      "Epoch 6/500\n",
      "8177/8177 [==============================] - 27s 3ms/step - loss: 4.7772 - acc: 0.0124 - val_loss: 4.7859 - val_acc: 0.0117\n",
      "\n",
      "Epoch 00006: val_acc improved from 0.01125 to 0.01174, saving model to dogs_weights.h5\n",
      "Epoch 7/500\n",
      "8177/8177 [==============================] - 28s 3ms/step - loss: 4.7647 - acc: 0.0144 - val_loss: 4.7863 - val_acc: 0.0117\n",
      "\n",
      "Epoch 00007: val_acc did not improve from 0.01174\n",
      "Epoch 8/500\n",
      "8177/8177 [==============================] - 28s 3ms/step - loss: 4.7386 - acc: 0.0171 - val_loss: 4.7872 - val_acc: 0.0117\n",
      "\n",
      "Epoch 00008: val_acc did not improve from 0.01174\n",
      "Epoch 9/500\n",
      "8177/8177 [==============================] - 28s 3ms/step - loss: 4.6811 - acc: 0.0215 - val_loss: 4.7886 - val_acc: 0.0117\n",
      "\n",
      "Epoch 00009: val_acc did not improve from 0.01174\n",
      "Epoch 10/500\n",
      "8177/8177 [==============================] - 28s 3ms/step - loss: 4.6045 - acc: 0.0260 - val_loss: 4.7931 - val_acc: 0.0117\n",
      "\n",
      "Epoch 00010: val_acc did not improve from 0.01174\n",
      "Epoch 11/500\n",
      "8177/8177 [==============================] - 27s 3ms/step - loss: 4.5339 - acc: 0.0334 - val_loss: 4.8040 - val_acc: 0.0117\n",
      "\n",
      "Epoch 00011: val_acc did not improve from 0.01174\n",
      "Epoch 12/500\n",
      "8177/8177 [==============================] - 28s 3ms/step - loss: 4.4690 - acc: 0.0379 - val_loss: 4.8134 - val_acc: 0.0142\n",
      "\n",
      "Epoch 00012: val_acc improved from 0.01174 to 0.01418, saving model to dogs_weights.h5\n",
      "Epoch 13/500\n",
      "8177/8177 [==============================] - 27s 3ms/step - loss: 4.3776 - acc: 0.0521 - val_loss: 4.8421 - val_acc: 0.0068\n",
      "\n",
      "Epoch 00013: val_acc did not improve from 0.01418\n",
      "Epoch 14/500\n",
      "8177/8177 [==============================] - 29s 4ms/step - loss: 4.2871 - acc: 0.0614 - val_loss: 4.8534 - val_acc: 0.0068\n",
      "\n",
      "Epoch 00014: val_acc did not improve from 0.01418\n",
      "Epoch 15/500\n",
      "8177/8177 [==============================] - 28s 3ms/step - loss: 4.1894 - acc: 0.0752 - val_loss: 4.8577 - val_acc: 0.0073\n",
      "\n",
      "Epoch 00015: val_acc did not improve from 0.01418\n",
      "Epoch 16/500\n",
      "8177/8177 [==============================] - 27s 3ms/step - loss: 4.0696 - acc: 0.0944 - val_loss: 4.8900 - val_acc: 0.0068\n",
      "\n",
      "Epoch 00016: val_acc did not improve from 0.01418\n",
      "Epoch 17/500\n",
      "8177/8177 [==============================] - 28s 3ms/step - loss: 3.9150 - acc: 0.1206 - val_loss: 4.9302 - val_acc: 0.0068\n",
      "\n",
      "Epoch 00017: val_acc did not improve from 0.01418\n",
      "Epoch 18/500\n",
      "8177/8177 [==============================] - 29s 3ms/step - loss: 3.7406 - acc: 0.1501 - val_loss: 4.9426 - val_acc: 0.0068\n",
      "\n",
      "Epoch 00018: val_acc did not improve from 0.01418\n",
      "Epoch 19/500\n",
      "8177/8177 [==============================] - 28s 3ms/step - loss: 3.5474 - acc: 0.1837 - val_loss: 4.9668 - val_acc: 0.0068\n",
      "\n",
      "Epoch 00019: val_acc did not improve from 0.01418\n",
      "Epoch 20/500\n",
      "8177/8177 [==============================] - 28s 3ms/step - loss: 3.3611 - acc: 0.2156 - val_loss: 4.9967 - val_acc: 0.0068\n",
      "\n",
      "Epoch 00020: val_acc did not improve from 0.01418\n",
      "Epoch 21/500\n",
      "8177/8177 [==============================] - 28s 3ms/step - loss: 3.1398 - acc: 0.2527 - val_loss: 5.0313 - val_acc: 0.0068\n",
      "\n",
      "Epoch 00021: val_acc did not improve from 0.01418\n",
      "Epoch 22/500\n",
      "4592/8177 [===============>..............] - ETA: 10s - loss: 2.8920 - acc: 0.3027"
     ]
    },
    {
     "ename": "KeyboardInterrupt",
     "evalue": "",
     "output_type": "error",
     "traceback": [
      "\u001b[0;31m---------------------------------------------------------------------------\u001b[0m",
      "\u001b[0;31mKeyboardInterrupt\u001b[0m                         Traceback (most recent call last)",
      "\u001b[0;32m<ipython-input-15-6190d9c1e563>\u001b[0m in \u001b[0;36m<module>\u001b[0;34m\u001b[0m\n\u001b[1;32m      4\u001b[0m                     \u001b[0mbatch_size\u001b[0m\u001b[0;34m=\u001b[0m\u001b[0mbatch_size\u001b[0m\u001b[0;34m,\u001b[0m\u001b[0;34m\u001b[0m\u001b[0;34m\u001b[0m\u001b[0m\n\u001b[1;32m      5\u001b[0m                     \u001b[0mvalidation_split\u001b[0m\u001b[0;34m=\u001b[0m\u001b[0;36m0.2\u001b[0m\u001b[0;34m,\u001b[0m\u001b[0;34m\u001b[0m\u001b[0;34m\u001b[0m\u001b[0m\n\u001b[0;32m----> 6\u001b[0;31m                     callbacks=callbacks_list)\n\u001b[0m",
      "\u001b[0;32m/usr/lib/python3/dist-packages/keras/engine/training.py\u001b[0m in \u001b[0;36mfit\u001b[0;34m(self, x, y, batch_size, epochs, verbose, callbacks, validation_split, validation_data, shuffle, class_weight, sample_weight, initial_epoch, steps_per_epoch, validation_steps, validation_freq, max_queue_size, workers, use_multiprocessing, **kwargs)\u001b[0m\n\u001b[1;32m   1237\u001b[0m                                         \u001b[0msteps_per_epoch\u001b[0m\u001b[0;34m=\u001b[0m\u001b[0msteps_per_epoch\u001b[0m\u001b[0;34m,\u001b[0m\u001b[0;34m\u001b[0m\u001b[0;34m\u001b[0m\u001b[0m\n\u001b[1;32m   1238\u001b[0m                                         \u001b[0mvalidation_steps\u001b[0m\u001b[0;34m=\u001b[0m\u001b[0mvalidation_steps\u001b[0m\u001b[0;34m,\u001b[0m\u001b[0;34m\u001b[0m\u001b[0;34m\u001b[0m\u001b[0m\n\u001b[0;32m-> 1239\u001b[0;31m                                         validation_freq=validation_freq)\n\u001b[0m\u001b[1;32m   1240\u001b[0m \u001b[0;34m\u001b[0m\u001b[0m\n\u001b[1;32m   1241\u001b[0m     def evaluate(self,\n",
      "\u001b[0;32m/usr/lib/python3/dist-packages/keras/engine/training_arrays.py\u001b[0m in \u001b[0;36mfit_loop\u001b[0;34m(model, fit_function, fit_inputs, out_labels, batch_size, epochs, verbose, callbacks, val_function, val_inputs, shuffle, initial_epoch, steps_per_epoch, validation_steps, validation_freq)\u001b[0m\n\u001b[1;32m    194\u001b[0m                     \u001b[0mins_batch\u001b[0m\u001b[0;34m[\u001b[0m\u001b[0mi\u001b[0m\u001b[0;34m]\u001b[0m \u001b[0;34m=\u001b[0m \u001b[0mins_batch\u001b[0m\u001b[0;34m[\u001b[0m\u001b[0mi\u001b[0m\u001b[0;34m]\u001b[0m\u001b[0;34m.\u001b[0m\u001b[0mtoarray\u001b[0m\u001b[0;34m(\u001b[0m\u001b[0;34m)\u001b[0m\u001b[0;34m\u001b[0m\u001b[0;34m\u001b[0m\u001b[0m\n\u001b[1;32m    195\u001b[0m \u001b[0;34m\u001b[0m\u001b[0m\n\u001b[0;32m--> 196\u001b[0;31m                 \u001b[0mouts\u001b[0m \u001b[0;34m=\u001b[0m \u001b[0mfit_function\u001b[0m\u001b[0;34m(\u001b[0m\u001b[0mins_batch\u001b[0m\u001b[0;34m)\u001b[0m\u001b[0;34m\u001b[0m\u001b[0;34m\u001b[0m\u001b[0m\n\u001b[0m\u001b[1;32m    197\u001b[0m                 \u001b[0mouts\u001b[0m \u001b[0;34m=\u001b[0m \u001b[0mto_list\u001b[0m\u001b[0;34m(\u001b[0m\u001b[0mouts\u001b[0m\u001b[0;34m)\u001b[0m\u001b[0;34m\u001b[0m\u001b[0;34m\u001b[0m\u001b[0m\n\u001b[1;32m    198\u001b[0m                 \u001b[0;32mfor\u001b[0m \u001b[0ml\u001b[0m\u001b[0;34m,\u001b[0m \u001b[0mo\u001b[0m \u001b[0;32min\u001b[0m \u001b[0mzip\u001b[0m\u001b[0;34m(\u001b[0m\u001b[0mout_labels\u001b[0m\u001b[0;34m,\u001b[0m \u001b[0mouts\u001b[0m\u001b[0;34m)\u001b[0m\u001b[0;34m:\u001b[0m\u001b[0;34m\u001b[0m\u001b[0;34m\u001b[0m\u001b[0m\n",
      "\u001b[0;32m/usr/lib/python3/dist-packages/tensorflow_core/python/keras/backend.py\u001b[0m in \u001b[0;36m__call__\u001b[0;34m(self, inputs)\u001b[0m\n\u001b[1;32m   3474\u001b[0m \u001b[0;34m\u001b[0m\u001b[0m\n\u001b[1;32m   3475\u001b[0m     fetched = self._callable_fn(*array_vals,\n\u001b[0;32m-> 3476\u001b[0;31m                                 run_metadata=self.run_metadata)\n\u001b[0m\u001b[1;32m   3477\u001b[0m     \u001b[0mself\u001b[0m\u001b[0;34m.\u001b[0m\u001b[0m_call_fetch_callbacks\u001b[0m\u001b[0;34m(\u001b[0m\u001b[0mfetched\u001b[0m\u001b[0;34m[\u001b[0m\u001b[0;34m-\u001b[0m\u001b[0mlen\u001b[0m\u001b[0;34m(\u001b[0m\u001b[0mself\u001b[0m\u001b[0;34m.\u001b[0m\u001b[0m_fetches\u001b[0m\u001b[0;34m)\u001b[0m\u001b[0;34m:\u001b[0m\u001b[0;34m]\u001b[0m\u001b[0;34m)\u001b[0m\u001b[0;34m\u001b[0m\u001b[0;34m\u001b[0m\u001b[0m\n\u001b[1;32m   3478\u001b[0m     output_structure = nest.pack_sequence_as(\n",
      "\u001b[0;32m/usr/lib/python3/dist-packages/tensorflow_core/python/client/session.py\u001b[0m in \u001b[0;36m__call__\u001b[0;34m(self, *args, **kwargs)\u001b[0m\n\u001b[1;32m   1470\u001b[0m         ret = tf_session.TF_SessionRunCallable(self._session._session,\n\u001b[1;32m   1471\u001b[0m                                                \u001b[0mself\u001b[0m\u001b[0;34m.\u001b[0m\u001b[0m_handle\u001b[0m\u001b[0;34m,\u001b[0m \u001b[0margs\u001b[0m\u001b[0;34m,\u001b[0m\u001b[0;34m\u001b[0m\u001b[0;34m\u001b[0m\u001b[0m\n\u001b[0;32m-> 1472\u001b[0;31m                                                run_metadata_ptr)\n\u001b[0m\u001b[1;32m   1473\u001b[0m         \u001b[0;32mif\u001b[0m \u001b[0mrun_metadata\u001b[0m\u001b[0;34m:\u001b[0m\u001b[0;34m\u001b[0m\u001b[0;34m\u001b[0m\u001b[0m\n\u001b[1;32m   1474\u001b[0m           \u001b[0mproto_data\u001b[0m \u001b[0;34m=\u001b[0m \u001b[0mtf_session\u001b[0m\u001b[0;34m.\u001b[0m\u001b[0mTF_GetBuffer\u001b[0m\u001b[0;34m(\u001b[0m\u001b[0mrun_metadata_ptr\u001b[0m\u001b[0;34m)\u001b[0m\u001b[0;34m\u001b[0m\u001b[0;34m\u001b[0m\u001b[0m\n",
      "\u001b[0;31mKeyboardInterrupt\u001b[0m: "
     ]
    }
   ],
   "source": [
    "history = model.fit(images,\n",
    "                    labels,\n",
    "                    epochs=epochs,\n",
    "                    batch_size=batch_size,\n",
    "                    validation_split=0.2,\n",
    "                    callbacks=callbacks_list)"
   ]
  },
  {
   "cell_type": "code",
   "execution_count": null,
   "metadata": {},
   "outputs": [],
   "source": [
    "test_images = np.zeros((num_test, width, width, num_channels), dtype=np.float16)\n",
    "test_labels = np.zeros((num_test, num_classes), dtype=np.int8)\n",
    "\n",
    "for i in tqdm(range(num_images)):\n",
    "    test_images[i] = cv2.resize(cv2.imread(test_folder + '%s.jpg' % df['id'][i]), (width, width))\n",
    "    test_labels[i][class_to_num[df['breed'][i]]] = 1\n",
    "    \n",
    "test_data = (test_images, test_labels)"
   ]
  },
  {
   "cell_type": "code",
   "execution_count": null,
   "metadata": {},
   "outputs": [],
   "source": [
    "model.load_weights(\"dogs_weights.h5\")\n",
    "\n",
    "results = model.evaluate(test_data)\n",
    "dict(zip(model.metrics_names, results))"
   ]
  },
  {
   "cell_type": "code",
   "execution_count": null,
   "metadata": {},
   "outputs": [],
   "source": []
  }
 ],
 "metadata": {
  "kernelspec": {
   "display_name": "Python 3",
   "language": "python",
   "name": "python3"
  },
  "language_info": {
   "codemirror_mode": {
    "name": "ipython",
    "version": 3
   },
   "file_extension": ".py",
   "mimetype": "text/x-python",
   "name": "python",
   "nbconvert_exporter": "python",
   "pygments_lexer": "ipython3",
   "version": "3.6.9"
  }
 },
 "nbformat": 4,
 "nbformat_minor": 4
}

{
 "cells": [
  {
   "cell_type": "code",
   "execution_count": 1,
   "metadata": {},
   "outputs": [],
   "source": [
    "import numpy as np\n",
    "import tensorflow as tf\n",
    "tf.enable_eager_execution()"
   ]
  },
  {
   "cell_type": "markdown",
   "metadata": {},
   "source": [
    "# Tensor Basics"
   ]
  },
  {
   "cell_type": "code",
   "execution_count": 2,
   "metadata": {},
   "outputs": [
    {
     "name": "stdout",
     "output_type": "stream",
     "text": [
      "tf.Tensor(4, shape=(), dtype=int32)\n"
     ]
    }
   ],
   "source": [
    "# \"scalar\" or \"rank-0\" tensor . A scalar contains a single value, and no \"axes\".\n",
    "rank0 = tf.constant(4)\n",
    "print(rank0)"
   ]
  },
  {
   "cell_type": "code",
   "execution_count": 3,
   "metadata": {},
   "outputs": [
    {
     "name": "stdout",
     "output_type": "stream",
     "text": [
      "tf.Tensor([2. 3. 4.], shape=(3,), dtype=float32)\n"
     ]
    }
   ],
   "source": [
    "# \"vector\" or \"rank-1\" tensor is like a list of values. A vector has 1-axis\n",
    "rank1 = tf.constant([2.0, 3.0, 4.0])\n",
    "print(rank1)"
   ]
  },
  {
   "cell_type": "code",
   "execution_count": 4,
   "metadata": {},
   "outputs": [
    {
     "name": "stdout",
     "output_type": "stream",
     "text": [
      "tf.Tensor(\n",
      "[[1. 2.]\n",
      " [2. 3.]\n",
      " [4. 5.]], shape=(3, 2), dtype=float16)\n"
     ]
    }
   ],
   "source": [
    "# \"matrix\" or \"rank-2\" tensor has 2-axes\n",
    "rank2 = tf.constant([[1, 2],\n",
    "                     [2, 3],\n",
    "                     [4, 5]], dtype=tf.float16)\n",
    "print(rank2)"
   ]
  },
  {
   "cell_type": "code",
   "execution_count": 5,
   "metadata": {},
   "outputs": [
    {
     "name": "stdout",
     "output_type": "stream",
     "text": [
      "tf.Tensor(\n",
      "[[[ 0  1  2  3  4]]\n",
      "\n",
      " [[ 5  6  7  8  9]]\n",
      "\n",
      " [[10 11 12 13 14]]], shape=(3, 1, 5), dtype=int64)\n"
     ]
    }
   ],
   "source": [
    "# tensor with 3-axes\n",
    "array = np.arange(15).reshape(3, 1, 5)\n",
    "rank3 = tf.convert_to_tensor(array)\n",
    "print(rank3)"
   ]
  },
  {
   "cell_type": "code",
   "execution_count": 6,
   "metadata": {},
   "outputs": [
    {
     "name": "stdout",
     "output_type": "stream",
     "text": [
      "True\n"
     ]
    }
   ],
   "source": [
    "# convert to numpy using np.array() or tf.numpy()\n",
    "r2_array = np.array(rank2)\n",
    "print(np.allclose(r2_array, rank2.numpy()))"
   ]
  },
  {
   "cell_type": "code",
   "execution_count": 7,
   "metadata": {},
   "outputs": [
    {
     "name": "stdout",
     "output_type": "stream",
     "text": [
      "X:    Y:\n",
      "[1 2] [1 1]\n",
      "[3 4] [1 1] \n",
      "\n",
      "Adding:\n",
      " tf.Tensor(\n",
      "[[2 3]\n",
      " [4 5]], shape=(2, 2), dtype=int32) \n",
      "\n",
      "Element-wise Multiplication:\n",
      " tf.Tensor(\n",
      "[[1 2]\n",
      " [3 4]], shape=(2, 2), dtype=int32) \n",
      "\n",
      "Matrix Multiplication:\n",
      " tf.Tensor(\n",
      "[[3 3]\n",
      " [7 7]], shape=(2, 2), dtype=int32)\n"
     ]
    }
   ],
   "source": [
    "# basic math operations\n",
    "x = tf.constant([[1, 2],\n",
    "                 [3, 4]])\n",
    "y = tf.ones([2, 2], dtype=tf.int32)\n",
    "print('X:    Y:')\n",
    "print(x[0, :].numpy(), y[0, :].numpy())\n",
    "print(x[1, :].numpy(), y[1, :].numpy(), '\\n')\n",
    "print('Adding:\\n', tf.add(x, y), '\\n')\n",
    "print('Element-wise Multiplication:\\n', tf.multiply(x, y), '\\n')\n",
    "print('Matrix Multiplication:\\n', tf.matmul(x, y))"
   ]
  },
  {
   "cell_type": "code",
   "execution_count": 8,
   "metadata": {},
   "outputs": [
    {
     "name": "stdout",
     "output_type": "stream",
     "text": [
      "x + y == tf.add(x, y) -->  True\n",
      "x * y == tf.multiply(x, y) -->  True\n",
      "x @ y == tf.matmul(x, y) -->  True\n"
     ]
    }
   ],
   "source": [
    "print('x + y == tf.add(x, y) --> ', np.allclose(tf.add(x, y), x + y))\n",
    "print('x * y == tf.multiply(x, y) --> ', np.allclose(tf.multiply(x, y), x * y))\n",
    "print('x @ y == tf.matmul(x, y) --> ', np.allclose(tf.matmul(x, y), x @ y))"
   ]
  },
  {
   "cell_type": "code",
   "execution_count": 9,
   "metadata": {},
   "outputs": [
    {
     "name": "stdout",
     "output_type": "stream",
     "text": [
      "Largest Value: tf.Tensor(10.0, shape=(), dtype=float32)\n",
      "Index of Largest Value: tf.Tensor([1 0], shape=(2,), dtype=int64)\n",
      "Softmax:\n",
      " tf.Tensor(\n",
      "[[2.6894143e-01 7.3105860e-01]\n",
      " [9.9987662e-01 1.2339458e-04]], shape=(2, 2), dtype=float32)\n"
     ]
    }
   ],
   "source": [
    "# basic tensor ops\n",
    "c = tf.constant([[4.0, 5.0], [10.0, 1.0]])\n",
    "print('Largest Value:', tf.reduce_max(c))\n",
    "print('Index of Largest Value:', tf.argmax(c))\n",
    "print('Softmax:\\n', tf.nn.softmax(c))"
   ]
  },
  {
   "cell_type": "markdown",
   "metadata": {},
   "source": [
    "# Shapes"
   ]
  },
  {
   "cell_type": "code",
   "execution_count": 10,
   "metadata": {},
   "outputs": [],
   "source": [
    "tensor = tf.zeros([3, 2, 4, 5])"
   ]
  },
  {
   "cell_type": "code",
   "execution_count": 11,
   "metadata": {},
   "outputs": [
    {
     "name": "stdout",
     "output_type": "stream",
     "text": [
      "Data type: <dtype: 'float32'>\n",
      "Number of dimensions: 4\n",
      "Shape of tensor: (3, 2, 4, 5)\n",
      "Total number of elements: 120\n"
     ]
    }
   ],
   "source": [
    "print('Data type:', tensor.dtype)\n",
    "print('Number of dimensions:', tensor.ndim)\n",
    "print('Shape of tensor:', tensor.shape)\n",
    "print('Total number of elements:', tf.size(tensor).numpy())"
   ]
  },
  {
   "cell_type": "code",
   "execution_count": 12,
   "metadata": {},
   "outputs": [
    {
     "name": "stdout",
     "output_type": "stream",
     "text": [
      "Elements along axis 0:\n",
      " 3\n"
     ]
    }
   ],
   "source": [
    "print('Elements along axis 0:\\n', tensor.shape[0])"
   ]
  },
  {
   "cell_type": "code",
   "execution_count": 13,
   "metadata": {},
   "outputs": [
    {
     "name": "stdout",
     "output_type": "stream",
     "text": [
      "Elements along last axis of tensor:\n",
      " 5\n"
     ]
    }
   ],
   "source": [
    "print('Elements along last axis of tensor:\\n', tensor.shape[-1])"
   ]
  },
  {
   "cell_type": "markdown",
   "metadata": {},
   "source": [
    "# Single-axis Indexing"
   ]
  },
  {
   "cell_type": "code",
   "execution_count": 14,
   "metadata": {},
   "outputs": [
    {
     "name": "stdout",
     "output_type": "stream",
     "text": [
      "[ 0  1  1  2  3  5  8 13 21 34]\n"
     ]
    }
   ],
   "source": [
    "t = tf.constant([0, 1, 1, 2, 3, 5, 8, 13, 21, 34])\n",
    "print(t.numpy())"
   ]
  },
  {
   "cell_type": "code",
   "execution_count": 15,
   "metadata": {},
   "outputs": [
    {
     "name": "stdout",
     "output_type": "stream",
     "text": [
      "0 1 34\n"
     ]
    }
   ],
   "source": [
    "# indexing with scalar\n",
    "print(t[0].numpy(), t[1].numpy(), t[-1].numpy())"
   ]
  },
  {
   "cell_type": "code",
   "execution_count": 16,
   "metadata": {},
   "outputs": [
    {
     "name": "stdout",
     "output_type": "stream",
     "text": [
      "Everything: [ 0  1  1  2  3  5  8 13 21 34]\n",
      "Before 4: [0 1 1 2]\n",
      "From 4 to end: [ 3  5  8 13 21 34]\n",
      "From 2, before 7: [1 2 3 5 8]\n",
      "Every other item: [ 0  1  3  8 21]\n",
      "Reversed: [34 21 13  8  5  3  2  1  1  0]\n"
     ]
    }
   ],
   "source": [
    "# indexing with colon\n",
    "print('Everything:', t[:].numpy())\n",
    "print('Before 4:', t[:4].numpy())\n",
    "print('From 4 to end:', t[4:].numpy())\n",
    "print('From 2, before 7:', t[2:7].numpy())\n",
    "print('Every other item:', t[::2].numpy())\n",
    "print('Reversed:', t[::-1].numpy())"
   ]
  },
  {
   "cell_type": "markdown",
   "metadata": {},
   "source": [
    "# Multi-axis Indexing"
   ]
  },
  {
   "cell_type": "code",
   "execution_count": 17,
   "metadata": {},
   "outputs": [
    {
     "name": "stdout",
     "output_type": "stream",
     "text": [
      "tf.Tensor(\n",
      "[[1 2]\n",
      " [3 4]\n",
      " [5 6]], shape=(3, 2), dtype=int32)\n",
      "Rank: 2\n"
     ]
    }
   ],
   "source": [
    "t = tf.constant([[1, 2], [3, 4], [5, 6]])\n",
    "print(t)\n",
    "print('Rank:', tf.rank(t).numpy())"
   ]
  },
  {
   "cell_type": "code",
   "execution_count": 18,
   "metadata": {},
   "outputs": [
    {
     "name": "stdout",
     "output_type": "stream",
     "text": [
      "4\n"
     ]
    }
   ],
   "source": [
    "# index single value\n",
    "print(t[1, 1].numpy())"
   ]
  },
  {
   "cell_type": "code",
   "execution_count": 19,
   "metadata": {},
   "outputs": [
    {
     "name": "stdout",
     "output_type": "stream",
     "text": [
      "Second Row: [3 4]\n",
      "Second Column: [2 4 6]\n",
      "Last Row: [5 6]\n",
      "First item in last column: 2\n",
      "Skip the first row:\n",
      " [[3 4]\n",
      " [5 6]]\n"
     ]
    }
   ],
   "source": [
    "# combination of ints and slices\n",
    "print('Second Row:', t[1, :].numpy())\n",
    "print('Second Column:', t[:, 1].numpy())\n",
    "print('Last Row:', t[-1, :].numpy())\n",
    "print('First item in last column:', t[0, -1].numpy())\n",
    "print('Skip the first row:\\n', t[1:, :].numpy())"
   ]
  },
  {
   "cell_type": "code",
   "execution_count": 20,
   "metadata": {},
   "outputs": [
    {
     "name": "stdout",
     "output_type": "stream",
     "text": [
      "tf.Tensor(\n",
      "[[ 4]\n",
      " [ 9]\n",
      " [14]], shape=(3, 1), dtype=int64)\n"
     ]
    }
   ],
   "source": [
    "# rank 3 tensor\n",
    "print(rank3[:, :, 4])"
   ]
  }
 ],
 "metadata": {
  "kernelspec": {
   "display_name": "Python 3",
   "language": "python",
   "name": "python3"
  },
  "language_info": {
   "codemirror_mode": {
    "name": "ipython",
    "version": 3
   },
   "file_extension": ".py",
   "mimetype": "text/x-python",
   "name": "python",
   "nbconvert_exporter": "python",
   "pygments_lexer": "ipython3",
   "version": "3.6.9"
  }
 },
 "nbformat": 4,
 "nbformat_minor": 4
}

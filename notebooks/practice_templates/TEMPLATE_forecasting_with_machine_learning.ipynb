{
 "cells": [
  {
   "cell_type": "markdown",
   "metadata": {
    "colab_type": "text",
    "id": "yHG6wUbvifuX"
   },
   "source": [
    "# Forecasting with Machine Learning\n",
    "\n",
    "## Setup"
   ]
  },
  {
   "cell_type": "code",
   "execution_count": null,
   "metadata": {
    "colab": {},
    "colab_type": "code",
    "id": "gqWabzlJ63nL"
   },
   "outputs": [],
   "source": [
    "import numpy as np\n",
    "import matplotlib.pyplot as plt\n",
    "import tensorflow.compat.v2 as tf\n",
    "tf.enable_v2_behavior()\n",
    "keras = tf.keras"
   ]
  },
  {
   "cell_type": "code",
   "execution_count": null,
   "metadata": {
    "colab": {},
    "colab_type": "code",
    "id": "cg1hfKCPldZG"
   },
   "outputs": [],
   "source": [
    "def plot_series(time, series, format=\"-\", start=0, end=None, label=None):\n",
    "    \n",
    "    \n",
    "def trend(time, slope=0):\n",
    "    \n",
    "  \n",
    "  \n",
    "def seasonal_pattern(season_time):\n",
    "    \n",
    "\n",
    "  \n",
    "def seasonality(time, period, amplitude=1, phase=0):\n",
    "    \n",
    "  \n",
    "  \n",
    "def white_noise(time, noise_level=1, seed=None):\n",
    "    "
   ]
  },
  {
   "cell_type": "code",
   "execution_count": null,
   "metadata": {
    "colab": {},
    "colab_type": "code",
    "id": "iL2DDjV3lel6"
   },
   "outputs": [],
   "source": [
    "time = \n",
    "\n",
    "slope = \n",
    "baseline = \n",
    "amplitude = \n",
    "series = \n",
    "\n",
    "noise_level = \n",
    "noise = \n",
    "\n",
    "series += \n",
    "\n",
    "plt.figure(figsize=(10, 6))\n",
    "plot_series(time, series)\n",
    "plt.show()"
   ]
  },
  {
   "cell_type": "markdown",
   "metadata": {
    "colab_type": "text",
    "id": "ViWVB9qd8OIR"
   },
   "source": [
    "## Forecasting with Machine Learning\n",
    "\n",
    "create dataset of 30-step windows for training:"
   ]
  },
  {
   "cell_type": "code",
   "execution_count": null,
   "metadata": {
    "colab": {},
    "colab_type": "code",
    "id": "1tl-0BOKkEtk"
   },
   "outputs": [],
   "source": [
    "def window_dataset(series, window_size, batch_size=32,\n",
    "                   shuffle_buffer=1000):\n",
    "    dataset = #from tensor slices\n",
    "    dataset = #make window\n",
    "    dataset = #batch windows\n",
    "    dataset = #shuffle batches\n",
    "    dataset = #split label from features\n",
    "    dataset = #batch and prefetch\n",
    "    return dataset"
   ]
  },
  {
   "cell_type": "code",
   "execution_count": null,
   "metadata": {
    "colab": {},
    "colab_type": "code",
    "id": "Zmp1JXKxk9Vb"
   },
   "outputs": [],
   "source": [
    "split_time = 1000\n",
    "\n",
    "time_train = \n",
    "x_train = \n",
    "\n",
    "time_valid = \n",
    "x_valid = "
   ]
  },
  {
   "cell_type": "markdown",
   "metadata": {
    "colab_type": "text",
    "id": "T1IvwAFn8OIc"
   },
   "source": [
    "### Linear Model"
   ]
  },
  {
   "cell_type": "code",
   "execution_count": null,
   "metadata": {
    "colab": {},
    "colab_type": "code",
    "id": "ieOKdcEQ0A6k"
   },
   "outputs": [],
   "source": [
    "# define basic model\n",
    "keras.backend.clear_session()\n",
    "tf.random.set_seed(42)\n",
    "np.random.seed(42)\n",
    "\n",
    "num_epochs = \n",
    "\n",
    "window_size = 30\n",
    "train_set = \n",
    "valid_set = \n",
    "\n",
    "model = keras.models.Sequential([\n",
    "  \n",
    "])\n",
    "\n",
    "optimizer = \n",
    "model.compile( )\n",
    "\n",
    "model.fit()"
   ]
  },
  {
   "cell_type": "code",
   "execution_count": null,
   "metadata": {
    "colab": {},
    "colab_type": "code",
    "id": "N3N8AGRM8OIc"
   },
   "outputs": [],
   "source": [
    "# determine optimal learning rate\n",
    "keras.backend.clear_session()\n",
    "tf.random.set_seed(42)\n",
    "np.random.seed(42)\n",
    "\n",
    "window_size = 30\n",
    "train_set = \n",
    "\n",
    "model = keras.models.Sequential([\n",
    "  \n",
    "])\n",
    "\n",
    "lr_schedule = \n",
    "\n",
    "optimizer = \n",
    "model.compile( )\n",
    "\n",
    "history = "
   ]
  },
  {
   "cell_type": "code",
   "execution_count": null,
   "metadata": {
    "colab": {},
    "colab_type": "code",
    "id": "PF9e7IDm8OId"
   },
   "outputs": [],
   "source": [
    "plt.semilogx(history.history[\"lr\"], history.history[\"loss\"])\n",
    "plt.axis([1e-6, 1e-3, 0, 20])"
   ]
  },
  {
   "cell_type": "code",
   "execution_count": null,
   "metadata": {
    "colab": {},
    "colab_type": "code",
    "id": "uMNwyIFE8OIf"
   },
   "outputs": [],
   "source": [
    "# train with early stopping callback \n",
    "keras.backend.clear_session()\n",
    "tf.random.set_seed(42)\n",
    "np.random.seed(42)\n",
    "\n",
    "window_size = 30\n",
    "train_set = \n",
    "valid_set = \n",
    "\n",
    "model = keras.models.Sequential([\n",
    "\n",
    "])\n",
    "optimizer = \n",
    "model.compile( )\n",
    "\n",
    "early_stopping = \n",
    "\n",
    "model.fit( )"
   ]
  },
  {
   "cell_type": "code",
   "execution_count": null,
   "metadata": {
    "colab": {},
    "colab_type": "code",
    "id": "_eaAX9g_jS5W"
   },
   "outputs": [],
   "source": [
    "def model_forecast(model, series, window_size):\n",
    "    ds = #from tensor slices\n",
    "    ds = #make windows\n",
    "    ds = #batch windows\n",
    "    ds = #batch and prefetch\n",
    "    forecast = \n",
    "    return forecast"
   ]
  },
  {
   "cell_type": "code",
   "execution_count": null,
   "metadata": {
    "colab": {},
    "colab_type": "code",
    "id": "FnIWROQ08OIj"
   },
   "outputs": [],
   "source": [
    "lin_forecast = "
   ]
  },
  {
   "cell_type": "code",
   "execution_count": null,
   "metadata": {
    "colab": {},
    "colab_type": "code",
    "id": "xd7Tj_fA8OIk"
   },
   "outputs": [],
   "source": [
    "lin_forecast.shape"
   ]
  },
  {
   "cell_type": "code",
   "execution_count": null,
   "metadata": {
    "colab": {},
    "colab_type": "code",
    "id": "F-nftslfgQJs"
   },
   "outputs": [],
   "source": [
    "plt.figure(figsize=(10, 6))\n",
    "plot_series(time_valid, x_valid)\n",
    "plot_series(time_valid, lin_forecast)"
   ]
  },
  {
   "cell_type": "code",
   "execution_count": null,
   "metadata": {
    "colab": {},
    "colab_type": "code",
    "id": "W4E_jXktf7iv"
   },
   "outputs": [],
   "source": [
    "# print mean absolute error\n",
    "mae = \n",
    "print(\"MAE:\", mae)"
   ]
  },
  {
   "cell_type": "markdown",
   "metadata": {
    "colab_type": "text",
    "id": "9nEM33dZ8OIp"
   },
   "source": [
    "### Dense Model Forecasting"
   ]
  },
  {
   "cell_type": "code",
   "execution_count": null,
   "metadata": {
    "colab": {},
    "colab_type": "code",
    "id": "RhGTv4G_8OIp"
   },
   "outputs": [],
   "source": [
    "# define dense model\n",
    "keras.backend.clear_session()\n",
    "tf.random.set_seed(42)\n",
    "np.random.seed(42)\n",
    "\n",
    "window_size = 30\n",
    "train_set = \n",
    "\n",
    "model = keras.models.Sequential([\n",
    "\n",
    "])\n",
    "\n",
    "# determine optimal learning rate\n",
    "lr_schedule = \n",
    "\n",
    "optimizer = \n",
    "model.compile()\n",
    "history = "
   ]
  },
  {
   "cell_type": "code",
   "execution_count": null,
   "metadata": {
    "colab": {},
    "colab_type": "code",
    "id": "5g-nC_em8OIq"
   },
   "outputs": [],
   "source": [
    "plt.semilogx( )\n",
    "plt.axis( )"
   ]
  },
  {
   "cell_type": "code",
   "execution_count": null,
   "metadata": {
    "colab": {},
    "colab_type": "code",
    "id": "B7t0VrCH8OIr"
   },
   "outputs": [],
   "source": [
    "# train with early stopping \n",
    "keras.backend.clear_session()\n",
    "tf.random.set_seed(42)\n",
    "np.random.seed(42)\n",
    "\n",
    "window_size = 30\n",
    "train_set = \n",
    "valid_set = \n",
    "\n",
    "model = keras.models.Sequential([\n",
    "\n",
    "])\n",
    "\n",
    "optimizer = \n",
    "model.compile( )\n",
    "\n",
    "early_stopping = \n",
    "\n",
    "model.fit( )"
   ]
  },
  {
   "cell_type": "code",
   "execution_count": null,
   "metadata": {
    "colab": {},
    "colab_type": "code",
    "id": "RqQbX6DZ8OIu"
   },
   "outputs": [],
   "source": [
    "dense_forecast = "
   ]
  },
  {
   "cell_type": "code",
   "execution_count": null,
   "metadata": {
    "colab": {},
    "colab_type": "code",
    "id": "98zwAuIo8OIv"
   },
   "outputs": [],
   "source": [
    "plt.figure(figsize=(10, 6))\n",
    "plot_series( )\n",
    "plot_series( )"
   ]
  },
  {
   "cell_type": "code",
   "execution_count": null,
   "metadata": {
    "colab": {},
    "colab_type": "code",
    "id": "EgkELN-58OIw"
   },
   "outputs": [],
   "source": [
    "# print mean absolute error\n",
    "mae = \n",
    "print(\"MAE:\", mae)"
   ]
  }
 ],
 "metadata": {
  "colab": {
   "collapsed_sections": [
    "vidayERjaO5q"
   ],
   "name": "l08c05_forecasting_with_machine_learning.ipynb",
   "private_outputs": true,
   "provenance": [],
   "toc_visible": true
  },
  "kernelspec": {
   "display_name": "Python 3",
   "language": "python",
   "name": "python3"
  },
  "language_info": {
   "codemirror_mode": {
    "name": "ipython",
    "version": 3
   },
   "file_extension": ".py",
   "mimetype": "text/x-python",
   "name": "python",
   "nbconvert_exporter": "python",
   "pygments_lexer": "ipython3",
   "version": "3.6.9"
  }
 },
 "nbformat": 4,
 "nbformat_minor": 1
}

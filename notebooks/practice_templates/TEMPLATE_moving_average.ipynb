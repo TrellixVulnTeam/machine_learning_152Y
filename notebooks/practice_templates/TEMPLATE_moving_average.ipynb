{
 "cells": [
  {
   "cell_type": "markdown",
   "metadata": {
    "cellView": "form",
    "colab": {},
    "colab_type": "code",
    "id": "Eq10uEbw0E4l"
   },
   "source": [
    "# Moving Average"
   ]
  },
  {
   "cell_type": "markdown",
   "metadata": {
    "colab_type": "text",
    "id": "vidayERjaO5q"
   },
   "source": [
    "## Setup"
   ]
  },
  {
   "cell_type": "code",
   "execution_count": null,
   "metadata": {
    "colab": {},
    "colab_type": "code",
    "id": "gqWabzlJ63nL"
   },
   "outputs": [],
   "source": [
    "import numpy as np\n",
    "import matplotlib.pyplot as plt\n",
    "import tensorflow.compat.v2 as tf\n",
    "tf.enable_v2_behavior()\n",
    "keras = tf.keras"
   ]
  },
  {
   "cell_type": "code",
   "execution_count": null,
   "metadata": {
    "colab": {},
    "colab_type": "code",
    "id": "sJwA96JU00pW"
   },
   "outputs": [],
   "source": [
    "def plot_series(time, series, format=\"-\", start=0, end=None, label=None):\n",
    "\n",
    "    \n",
    "def trend(time, slope=0):\n",
    "\n",
    "\n",
    "def seasonal_pattern(season_time):\n",
    "\n",
    "\n",
    "def seasonality(time, period, amplitude=1, phase=0):\n",
    "\n",
    "\n",
    "def white_noise(time, noise_level=1, seed=None):\n"
   ]
  },
  {
   "cell_type": "markdown",
   "metadata": {
    "colab_type": "text",
    "id": "yVo6CcpRaW7u"
   },
   "source": [
    "## Trend and Seasonality"
   ]
  },
  {
   "cell_type": "code",
   "execution_count": null,
   "metadata": {
    "colab": {},
    "colab_type": "code",
    "id": "BLt-pLiZ0nfB"
   },
   "outputs": [],
   "source": [
    "time = \n",
    "\n",
    "slope =\n",
    "baseline = \n",
    "amplitude = \n",
    "series = \n",
    "\n",
    "noise_level = 5\n",
    "noise = \n",
    "\n",
    "series += \n",
    "\n",
    "plt.figure(figsize=(10, 6))\n"
   ]
  },
  {
   "cell_type": "markdown",
   "metadata": {
    "colab_type": "text",
    "id": "bjD8ncEZbjEW"
   },
   "source": [
    "## Naive Forecast"
   ]
  },
  {
   "cell_type": "code",
   "execution_count": null,
   "metadata": {
    "colab": {},
    "colab_type": "code",
    "id": "Pj_-uCeYxcAb"
   },
   "outputs": [],
   "source": [
    "split_time = 1000\n",
    "\n",
    "time_train = \n",
    "x_train = \n",
    "\n",
    "time_valid = \n",
    "x_valid = \n",
    "\n",
    "naive_forecast = \n",
    "\n",
    "plt.figure(figsize=(10, 6))\n"
   ]
  },
  {
   "cell_type": "code",
   "execution_count": null,
   "metadata": {
    "colab": {},
    "colab_type": "code",
    "id": "byNnC7IbsnMZ"
   },
   "outputs": [],
   "source": [
    "# mae\n",
    "mae = \n",
    "print('mae:', mae)"
   ]
  },
  {
   "cell_type": "markdown",
   "metadata": {
    "colab_type": "text",
    "id": "MLtZbFoU8OH-"
   },
   "source": [
    "## Moving Average"
   ]
  },
  {
   "cell_type": "code",
   "execution_count": null,
   "metadata": {
    "colab": {},
    "colab_type": "code",
    "id": "YGz5UsUdf2tV"
   },
   "outputs": [],
   "source": [
    "def moving_average_forecast(series, window_size):\n",
    "    \n",
    "  return np.array(forecast)"
   ]
  },
  {
   "cell_type": "code",
   "execution_count": null,
   "metadata": {
    "colab": {},
    "colab_type": "code",
    "id": "Le2gNBthBWPN"
   },
   "outputs": [],
   "source": [
    "def moving_average_forecast(series, window_size):\n",
    "\n",
    "  return mov[window_size - 1:-1] / window_size"
   ]
  },
  {
   "cell_type": "code",
   "execution_count": null,
   "metadata": {
    "colab": {},
    "colab_type": "code",
    "id": "F50zyJGoDNJl"
   },
   "outputs": [],
   "source": [
    "moving_avg = \n",
    "\n",
    "plt.figure(figsize=(10, 6))\n"
   ]
  },
  {
   "cell_type": "code",
   "execution_count": null,
   "metadata": {
    "colab": {},
    "colab_type": "code",
    "id": "wG7pTAd7z0e8"
   },
   "outputs": [],
   "source": [
    "# mae\n",
    "mae = \n",
    "print('mae:', mae)"
   ]
  },
  {
   "cell_type": "markdown",
   "metadata": {
    "colab_type": "text",
    "id": "JMYPnJqwz8nS"
   },
   "source": [
    "Note: moving average does not anticipate trend or seasonality. remove them using differencing.\n",
    "\n",
    "subtract the value at time *t* – *seasonal period* from the value at time *t*."
   ]
  },
  {
   "cell_type": "code",
   "execution_count": null,
   "metadata": {
    "colab": {},
    "colab_type": "code",
    "id": "5pqySF7-rJR4"
   },
   "outputs": [],
   "source": [
    "diff_series = \n",
    "diff_time = \n",
    "\n",
    "plt.figure(figsize=(10, 6))\n"
   ]
  },
  {
   "cell_type": "markdown",
   "metadata": {
    "colab_type": "text",
    "id": "WDNer84g8OIF"
   },
   "source": [
    "validation period:"
   ]
  },
  {
   "cell_type": "code",
   "execution_count": null,
   "metadata": {
    "colab": {},
    "colab_type": "code",
    "id": "-O21jlnA8OIG"
   },
   "outputs": [],
   "source": [
    "plt.figure(figsize=(10, 6))\n"
   ]
  },
  {
   "cell_type": "markdown",
   "metadata": {
    "colab_type": "text",
    "id": "xPlPlS7DskWg"
   },
   "source": [
    "use moving average:"
   ]
  },
  {
   "cell_type": "code",
   "execution_count": null,
   "metadata": {
    "colab": {},
    "colab_type": "code",
    "id": "QmZpz7arsjbb"
   },
   "outputs": [],
   "source": [
    "diff_moving_avg = \n",
    "\n",
    "plt.figure(figsize=(10, 6))\n"
   ]
  },
  {
   "cell_type": "markdown",
   "metadata": {
    "colab_type": "text",
    "id": "Gno9S2lyecnc"
   },
   "source": [
    "add past values from t – 365:"
   ]
  },
  {
   "cell_type": "code",
   "execution_count": null,
   "metadata": {
    "colab": {},
    "colab_type": "code",
    "id": "Dv6RWFq7TFGB"
   },
   "outputs": [],
   "source": [
    "diff_moving_avg_plus_past = \n",
    "\n",
    "plt.figure(figsize=(10, 6))\n"
   ]
  },
  {
   "cell_type": "code",
   "execution_count": null,
   "metadata": {
    "colab": {},
    "colab_type": "code",
    "id": "59jmBrwcTFCx"
   },
   "outputs": [],
   "source": [
    "# mae\n",
    "mae = \n",
    "print('mae:', mae)"
   ]
  },
  {
   "cell_type": "markdown",
   "metadata": {
    "colab_type": "text",
    "id": "vx9Et1Hkeusl"
   },
   "source": [
    "use moving averaging on past values to remove some noise:"
   ]
  },
  {
   "cell_type": "code",
   "execution_count": null,
   "metadata": {
    "colab": {},
    "colab_type": "code",
    "id": "K81dtROoTE_r"
   },
   "outputs": [],
   "source": [
    "diff_moving_avg_plus_smooth_past = \n",
    "\n",
    "plt.figure(figsize=(10, 6))\n"
   ]
  },
  {
   "cell_type": "code",
   "execution_count": null,
   "metadata": {
    "colab": {},
    "colab_type": "code",
    "id": "iN2MsBxWTE3m"
   },
   "outputs": [],
   "source": [
    "# mae\n",
    "mae = \n",
    "print('mae:', mae)"
   ]
  }
 ],
 "metadata": {
  "colab": {
   "collapsed_sections": [],
   "name": "l08c03_moving_average.ipynb",
   "private_outputs": true,
   "provenance": [],
   "toc_visible": true
  },
  "kernelspec": {
   "display_name": "Python 3",
   "language": "python",
   "name": "python3"
  },
  "language_info": {
   "codemirror_mode": {
    "name": "ipython",
    "version": 3
   },
   "file_extension": ".py",
   "mimetype": "text/x-python",
   "name": "python",
   "nbconvert_exporter": "python",
   "pygments_lexer": "ipython3",
   "version": "3.6.9"
  }
 },
 "nbformat": 4,
 "nbformat_minor": 1
}

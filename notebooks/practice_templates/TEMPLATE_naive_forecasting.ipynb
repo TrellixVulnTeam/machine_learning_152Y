{
 "cells": [
  {
   "cell_type": "markdown",
   "metadata": {
    "cellView": "form",
    "colab": {},
    "colab_type": "code",
    "id": "Eq10uEbw0E4l"
   },
   "source": [
    "# Naive Forcasting"
   ]
  },
  {
   "cell_type": "markdown",
   "metadata": {
    "colab_type": "text",
    "id": "vidayERjaO5q"
   },
   "source": [
    "## Setup"
   ]
  },
  {
   "cell_type": "code",
   "execution_count": null,
   "metadata": {
    "colab": {},
    "colab_type": "code",
    "id": "gqWabzlJ63nL"
   },
   "outputs": [],
   "source": [
    "import numpy as np\n",
    "import matplotlib.pyplot as plt"
   ]
  },
  {
   "cell_type": "code",
   "execution_count": null,
   "metadata": {
    "colab": {},
    "colab_type": "code",
    "id": "sJwA96JU00pW"
   },
   "outputs": [],
   "source": [
    "def plot_series(time, series, format=\"-\", start=0, end=None, label=None):\n",
    "\n",
    "    \n",
    "def trend(time, slope=0):\n",
    "\n",
    "\n",
    "def seasonal_pattern(season_time):\n",
    "\n",
    "  \n",
    "def seasonality(time, period, amplitude=1, phase=0):\n",
    "\n",
    "    \n",
    "def white_noise(time, noise_level=1, seed=None):\n"
   ]
  },
  {
   "cell_type": "markdown",
   "metadata": {
    "colab_type": "text",
    "id": "yVo6CcpRaW7u"
   },
   "source": [
    "## Trend and Seasonality"
   ]
  },
  {
   "cell_type": "code",
   "execution_count": null,
   "metadata": {
    "colab": {},
    "colab_type": "code",
    "id": "BLt-pLiZ0nfB"
   },
   "outputs": [],
   "source": [
    "time = \n",
    "\n",
    "slope = 0.05\n",
    "baseline = 10\n",
    "amplitude = 30\n",
    "series = \n",
    "\n",
    "noise_level = 5\n",
    "noise = \n",
    "\n",
    "series += noise\n",
    "\n",
    "plt.figure(figsize=(10, 6))\n",
    "plot_series( )\n",
    "plt.show()"
   ]
  },
  {
   "cell_type": "markdown",
   "metadata": {
    "colab_type": "text",
    "id": "a1sQpPjhtj0G"
   },
   "source": [
    "split into training and validation periods at time step 1000:"
   ]
  },
  {
   "cell_type": "code",
   "execution_count": null,
   "metadata": {
    "colab": {},
    "colab_type": "code",
    "id": "_w0eKap5uFNP"
   },
   "outputs": [],
   "source": [
    "split_time = 1000\n",
    "\n",
    "time_train = \n",
    "x_train = \n",
    "\n",
    "time_valid = \n",
    "x_valid = "
   ]
  },
  {
   "cell_type": "markdown",
   "metadata": {
    "colab_type": "text",
    "id": "bjD8ncEZbjEW"
   },
   "source": [
    "## Naive Forecast"
   ]
  },
  {
   "cell_type": "code",
   "execution_count": null,
   "metadata": {
    "colab": {},
    "colab_type": "code",
    "id": "Pj_-uCeYxcAb"
   },
   "outputs": [],
   "source": [
    "naive_forecast = "
   ]
  },
  {
   "cell_type": "code",
   "execution_count": null,
   "metadata": {
    "colab": {},
    "colab_type": "code",
    "id": "JtxwHj9Ig0jT"
   },
   "outputs": [],
   "source": [
    "plt.figure(figsize=(10, 6))\n",
    "plot_series( )\n",
    "plot_series( )"
   ]
  },
  {
   "cell_type": "markdown",
   "metadata": {
    "colab_type": "text",
    "id": "fw1SP5WeuixH"
   },
   "source": [
    "zoom in on the start of the validation period:"
   ]
  },
  {
   "cell_type": "code",
   "execution_count": null,
   "metadata": {
    "colab": {},
    "colab_type": "code",
    "id": "D0MKg7FNug9V"
   },
   "outputs": [],
   "source": [
    "plt.figure(figsize=(10, 6))\n",
    "plot_series( )\n",
    "plot_series( )"
   ]
  },
  {
   "cell_type": "markdown",
   "metadata": {
    "colab_type": "text",
    "id": "35gIlQLfu0TT"
   },
   "source": [
    "Note: naive forecast lags 1 step behind the time series"
   ]
  },
  {
   "cell_type": "markdown",
   "metadata": {
    "colab_type": "text",
    "id": "Uh_7244Gsxfx"
   },
   "source": [
    "compute mean absolute error between forecasts and predictions in validation period:"
   ]
  },
  {
   "cell_type": "code",
   "execution_count": null,
   "metadata": {
    "colab": {},
    "colab_type": "code",
    "id": "LjpLQeWY11H8"
   },
   "outputs": [],
   "source": [
    "errors =  \n",
    "abs_errors =  \n",
    "mae =  \n",
    "print('mae:', mae)"
   ]
  }
 ],
 "metadata": {
  "colab": {
   "collapsed_sections": [],
   "name": "l08c02_naive_forecasting.ipynb",
   "private_outputs": true,
   "provenance": [],
   "toc_visible": true
  },
  "kernelspec": {
   "display_name": "Python 3",
   "language": "python",
   "name": "python3"
  },
  "language_info": {
   "codemirror_mode": {
    "name": "ipython",
    "version": 3
   },
   "file_extension": ".py",
   "mimetype": "text/x-python",
   "name": "python",
   "nbconvert_exporter": "python",
   "pygments_lexer": "ipython3",
   "version": "3.6.9"
  }
 },
 "nbformat": 4,
 "nbformat_minor": 1
}

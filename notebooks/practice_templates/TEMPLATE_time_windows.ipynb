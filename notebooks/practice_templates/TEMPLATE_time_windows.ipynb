{
 "cells": [
  {
   "cell_type": "markdown",
   "metadata": {
    "colab_type": "text",
    "id": "Ou0PGp_4icRo"
   },
   "source": [
    "# Time Windows\n",
    "\n",
    "This notebook covers the best practices for creating time windows from a given dataset for the purpose of time series forcasting, and demonstrates a number of useful data processing techniques with numpy and the built in lambda function."
   ]
  },
  {
   "cell_type": "markdown",
   "metadata": {
    "colab_type": "text",
    "id": "vidayERjaO5q"
   },
   "source": [
    "## Setup"
   ]
  },
  {
   "cell_type": "code",
   "execution_count": null,
   "metadata": {
    "colab": {},
    "colab_type": "code",
    "id": "gqWabzlJ63nL"
   },
   "outputs": [],
   "source": [
    "import tensorflow.compat.v2 as tf\n",
    "tf.enable_v2_behavior()"
   ]
  },
  {
   "cell_type": "markdown",
   "metadata": {
    "colab_type": "text",
    "id": "ViWVB9qd8OIR"
   },
   "source": [
    "## Time Windows"
   ]
  },
  {
   "cell_type": "code",
   "execution_count": null,
   "metadata": {
    "colab": {},
    "colab_type": "code",
    "id": "bgJkwtq88OIS"
   },
   "outputs": [],
   "source": [
    "# make dataset of range(10)\n",
    "dataset = \n",
    "for val in dataset:\n",
    "    print(val.numpy())"
   ]
  },
  {
   "cell_type": "code",
   "execution_count": null,
   "metadata": {
    "colab": {},
    "colab_type": "code",
    "id": "ad8C65JV8OIT"
   },
   "outputs": [],
   "source": [
    "# with windows\n",
    "dataset = \n",
    "dataset = \n",
    "for window_dataset in dataset:\n",
    "    for val in window_dataset:\n",
    "        print(val.numpy(), end=\" \")\n",
    "    print()"
   ]
  },
  {
   "cell_type": "code",
   "execution_count": null,
   "metadata": {
    "colab": {},
    "colab_type": "code",
    "id": "AQtmODsi8OIU"
   },
   "outputs": [],
   "source": [
    "# no remainders\n",
    "dataset = \n",
    "dataset = \n",
    "for window_dataset in dataset:\n",
    "    for val in window_dataset:\n",
    "        print(val.numpy(), end=\" \")\n",
    "    print()"
   ]
  },
  {
   "cell_type": "code",
   "execution_count": null,
   "metadata": {
    "colab": {},
    "colab_type": "code",
    "id": "kTRHiWxi8OIW"
   },
   "outputs": [],
   "source": [
    "# batch windows\n",
    "dataset = \n",
    "dataset = \n",
    "dataset = \n",
    "for window in dataset:\n",
    "    print(window.numpy())"
   ]
  },
  {
   "cell_type": "code",
   "execution_count": null,
   "metadata": {
    "colab": {},
    "colab_type": "code",
    "id": "iPsQbWHb8OIX"
   },
   "outputs": [],
   "source": [
    "# split label from features\n",
    "dataset = \n",
    "dataset = \n",
    "dataset = \n",
    "dataset = \n",
    "for x, y in dataset:\n",
    "    print(x.numpy(), y.numpy())"
   ]
  },
  {
   "cell_type": "code",
   "execution_count": null,
   "metadata": {
    "colab": {},
    "colab_type": "code",
    "id": "hzp7RD6_8OIY"
   },
   "outputs": [],
   "source": [
    "# shuffle \n",
    "dataset =  \n",
    "dataset =  \n",
    "dataset =  \n",
    "dataset =  \n",
    "dataset =  \n",
    "for x, y in dataset:\n",
    "    print(x.numpy(), y.numpy())"
   ]
  },
  {
   "cell_type": "code",
   "execution_count": null,
   "metadata": {
    "colab": {},
    "colab_type": "code",
    "id": "y70nV0EI8OIZ"
   },
   "outputs": [],
   "source": [
    "# batch and prefetch\n",
    "dataset =  \n",
    "dataset =  \n",
    "dataset =  \n",
    "dataset =  \n",
    "dataset =  \n",
    "dataset =  \n",
    "for x, y in dataset:\n",
    "    print(\"x =\", x.numpy())\n",
    "    print(\"y =\", y.numpy())"
   ]
  },
  {
   "cell_type": "code",
   "execution_count": null,
   "metadata": {
    "colab": {},
    "colab_type": "code",
    "id": "1tl-0BOKkEtk"
   },
   "outputs": [],
   "source": [
    "# all together (useful function)\n",
    "def window_dataset(series, window_size, batch_size=32,\n",
    "                   shuffle_buffer=1000):\n",
    "    \n",
    "    return dataset"
   ]
  }
 ],
 "metadata": {
  "colab": {
   "collapsed_sections": [],
   "name": "l08c04_time_windows.ipynb",
   "private_outputs": true,
   "provenance": [],
   "toc_visible": true
  },
  "kernelspec": {
   "display_name": "Python 3",
   "language": "python",
   "name": "python3"
  },
  "language_info": {
   "codemirror_mode": {
    "name": "ipython",
    "version": 3
   },
   "file_extension": ".py",
   "mimetype": "text/x-python",
   "name": "python",
   "nbconvert_exporter": "python",
   "pygments_lexer": "ipython3",
   "version": "3.6.9"
  }
 },
 "nbformat": 4,
 "nbformat_minor": 1
}
